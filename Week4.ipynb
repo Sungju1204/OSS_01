{
  "nbformat": 4,
  "nbformat_minor": 0,
  "metadata": {
    "colab": {
      "provenance": []
    },
    "kernelspec": {
      "name": "python3",
      "display_name": "Python 3"
    },
    "language_info": {
      "name": "python"
    }
  },
  "cells": [
    {
      "cell_type": "code",
      "execution_count": 1,
      "metadata": {
        "colab": {
          "base_uri": "https://localhost:8080/"
        },
        "id": "IdQgelxOJWQ0",
        "outputId": "7217aee1-674c-4137-e60c-c2369129b6b5"
      },
      "outputs": [
        {
          "output_type": "execute_result",
          "data": {
            "text/plain": [
              "{1: 'UNITED STATES', 55: 'BRAZIL', 7: 'RUSSIA'}"
            ]
          },
          "metadata": {},
          "execution_count": 1
        }
      ],
      "source": [
        "DIAL_CODES = [\n",
        "    (86, 'China'),\n",
        "    (91, 'India'),\n",
        "    (1, 'United States'),\n",
        "    (55, 'Brazil'),\n",
        "    (7, 'Russia'),\n",
        "]\n",
        "\n",
        "country_code = {country: code for code, country in DIAL_CODES}\n",
        "country_code\n",
        "\n",
        "{code: country.upper() for country, code in country_code.items() if code < 66}"
      ]
    },
    {
      "cell_type": "code",
      "source": [
        "import sys, re\n",
        "\n",
        "WORD_RE = re.compile(r'\\w+')\n",
        "index = {}\n",
        "\n",
        "with open(\"sejong.txt\", encoding='utf-8') as fp:\n",
        "    for line_no, line in enumerate(fp, 1):\n",
        "        for match in WORD_RE.finditer(line):\n",
        "            word = match.group()\n",
        "            column_no = match.start() + 1\n",
        "            location = (line_no, column_no)\n",
        "            occurrences = index.get(word, [])\n",
        "            occurrences.append(location)\n",
        "            index[word] = occurrences\n",
        "\n",
        "for word in sorted(index, key=str.upper):\n",
        "    print(word, index[word])"
      ],
      "metadata": {
        "colab": {
          "base_uri": "https://localhost:8080/",
          "height": 221
        },
        "id": "OB8jsHQqKC5-",
        "outputId": "6ad11990-af9c-49b6-8290-f6d295264d42"
      },
      "execution_count": 2,
      "outputs": [
        {
          "output_type": "error",
          "ename": "FileNotFoundError",
          "evalue": "[Errno 2] No such file or directory: 'sejong.txt'",
          "traceback": [
            "\u001b[0;31m---------------------------------------------------------------------------\u001b[0m",
            "\u001b[0;31mFileNotFoundError\u001b[0m                         Traceback (most recent call last)",
            "\u001b[0;32m/tmp/ipython-input-362304518.py\u001b[0m in \u001b[0;36m<cell line: 0>\u001b[0;34m()\u001b[0m\n\u001b[1;32m      4\u001b[0m \u001b[0mindex\u001b[0m \u001b[0;34m=\u001b[0m \u001b[0;34m{\u001b[0m\u001b[0;34m}\u001b[0m\u001b[0;34m\u001b[0m\u001b[0;34m\u001b[0m\u001b[0m\n\u001b[1;32m      5\u001b[0m \u001b[0;34m\u001b[0m\u001b[0m\n\u001b[0;32m----> 6\u001b[0;31m \u001b[0;32mwith\u001b[0m \u001b[0mopen\u001b[0m\u001b[0;34m(\u001b[0m\u001b[0;34m\"sejong.txt\"\u001b[0m\u001b[0;34m,\u001b[0m \u001b[0mencoding\u001b[0m\u001b[0;34m=\u001b[0m\u001b[0;34m'utf-8'\u001b[0m\u001b[0;34m)\u001b[0m \u001b[0;32mas\u001b[0m \u001b[0mfp\u001b[0m\u001b[0;34m:\u001b[0m\u001b[0;34m\u001b[0m\u001b[0;34m\u001b[0m\u001b[0m\n\u001b[0m\u001b[1;32m      7\u001b[0m     \u001b[0;32mfor\u001b[0m \u001b[0mline_no\u001b[0m\u001b[0;34m,\u001b[0m \u001b[0mline\u001b[0m \u001b[0;32min\u001b[0m \u001b[0menumerate\u001b[0m\u001b[0;34m(\u001b[0m\u001b[0mfp\u001b[0m\u001b[0;34m,\u001b[0m \u001b[0;36m1\u001b[0m\u001b[0;34m)\u001b[0m\u001b[0;34m:\u001b[0m\u001b[0;34m\u001b[0m\u001b[0;34m\u001b[0m\u001b[0m\n\u001b[1;32m      8\u001b[0m         \u001b[0;32mfor\u001b[0m \u001b[0mmatch\u001b[0m \u001b[0;32min\u001b[0m \u001b[0mWORD_RE\u001b[0m\u001b[0;34m.\u001b[0m\u001b[0mfinditer\u001b[0m\u001b[0;34m(\u001b[0m\u001b[0mline\u001b[0m\u001b[0;34m)\u001b[0m\u001b[0;34m:\u001b[0m\u001b[0;34m\u001b[0m\u001b[0;34m\u001b[0m\u001b[0m\n",
            "\u001b[0;31mFileNotFoundError\u001b[0m: [Errno 2] No such file or directory: 'sejong.txt'"
          ]
        }
      ]
    },
    {
      "cell_type": "code",
      "source": [
        "import sys, re\n",
        "\n",
        "WORD_RE = re.compile(r'\\w+')\n",
        "index = {}\n",
        "\n",
        "with open(\"sejong.txt\", encoding='utf-8') as fp:\n",
        "    for line_no, line in enumerate(fp, 1):\n",
        "        for match in WORD_RE.finditer(line):\n",
        "            word = match.group()\n",
        "            column_no = match.start() + 1\n",
        "            location = (line_no, column_no)\n",
        "            index.setdefault(word, []).append(location)\n",
        "\n",
        "for word in sorted(index, key=str.upper):\n",
        "    print(word, index[word])"
      ],
      "metadata": {
        "colab": {
          "base_uri": "https://localhost:8080/",
          "height": 221
        },
        "id": "bhQ8n179KepX",
        "outputId": "293fd7e2-435b-4886-cf8d-e4eea5d4f6ac"
      },
      "execution_count": 3,
      "outputs": [
        {
          "output_type": "error",
          "ename": "FileNotFoundError",
          "evalue": "[Errno 2] No such file or directory: 'sejong.txt'",
          "traceback": [
            "\u001b[0;31m---------------------------------------------------------------------------\u001b[0m",
            "\u001b[0;31mFileNotFoundError\u001b[0m                         Traceback (most recent call last)",
            "\u001b[0;32m/tmp/ipython-input-1074041107.py\u001b[0m in \u001b[0;36m<cell line: 0>\u001b[0;34m()\u001b[0m\n\u001b[1;32m      4\u001b[0m \u001b[0mindex\u001b[0m \u001b[0;34m=\u001b[0m \u001b[0;34m{\u001b[0m\u001b[0;34m}\u001b[0m\u001b[0;34m\u001b[0m\u001b[0;34m\u001b[0m\u001b[0m\n\u001b[1;32m      5\u001b[0m \u001b[0;34m\u001b[0m\u001b[0m\n\u001b[0;32m----> 6\u001b[0;31m \u001b[0;32mwith\u001b[0m \u001b[0mopen\u001b[0m\u001b[0;34m(\u001b[0m\u001b[0;34m\"sejong.txt\"\u001b[0m\u001b[0;34m,\u001b[0m \u001b[0mencoding\u001b[0m\u001b[0;34m=\u001b[0m\u001b[0;34m'utf-8'\u001b[0m\u001b[0;34m)\u001b[0m \u001b[0;32mas\u001b[0m \u001b[0mfp\u001b[0m\u001b[0;34m:\u001b[0m\u001b[0;34m\u001b[0m\u001b[0;34m\u001b[0m\u001b[0m\n\u001b[0m\u001b[1;32m      7\u001b[0m     \u001b[0;32mfor\u001b[0m \u001b[0mline_no\u001b[0m\u001b[0;34m,\u001b[0m \u001b[0mline\u001b[0m \u001b[0;32min\u001b[0m \u001b[0menumerate\u001b[0m\u001b[0;34m(\u001b[0m\u001b[0mfp\u001b[0m\u001b[0;34m,\u001b[0m \u001b[0;36m1\u001b[0m\u001b[0;34m)\u001b[0m\u001b[0;34m:\u001b[0m\u001b[0;34m\u001b[0m\u001b[0;34m\u001b[0m\u001b[0m\n\u001b[1;32m      8\u001b[0m         \u001b[0;32mfor\u001b[0m \u001b[0mmatch\u001b[0m \u001b[0;32min\u001b[0m \u001b[0mWORD_RE\u001b[0m\u001b[0;34m.\u001b[0m\u001b[0mfinditer\u001b[0m\u001b[0;34m(\u001b[0m\u001b[0mline\u001b[0m\u001b[0;34m)\u001b[0m\u001b[0;34m:\u001b[0m\u001b[0;34m\u001b[0m\u001b[0;34m\u001b[0m\u001b[0m\n",
            "\u001b[0;31mFileNotFoundError\u001b[0m: [Errno 2] No such file or directory: 'sejong.txt'"
          ]
        }
      ]
    },
    {
      "cell_type": "code",
      "source": [
        "import sys, re, collections\n",
        "\n",
        "WORD_RE = re.compile(r'\\w+')\n",
        "\n",
        "index = collections.defaultdict(list)\n",
        "\n",
        "with open(\"sejong.txt\", encoding='utf-8') as fp:\n",
        "    for line_no, line in enumerate(fp, 1):\n",
        "        for match in WORD_RE.finditer(line):\n",
        "            word = match.group()\n",
        "            column_no = match.start() + 1\n",
        "            location = (line_no, column_no)\n",
        "            index[word].append(location)\n",
        "\n",
        "for word in sorted(index, key=str.upper):\n",
        "    print(word, index[word])"
      ],
      "metadata": {
        "colab": {
          "base_uri": "https://localhost:8080/",
          "height": 221
        },
        "id": "Gy55rm86Ks5g",
        "outputId": "69d8ce07-0706-4648-d95c-5f9acb87cdf2"
      },
      "execution_count": 4,
      "outputs": [
        {
          "output_type": "error",
          "ename": "FileNotFoundError",
          "evalue": "[Errno 2] No such file or directory: 'sejong.txt'",
          "traceback": [
            "\u001b[0;31m---------------------------------------------------------------------------\u001b[0m",
            "\u001b[0;31mFileNotFoundError\u001b[0m                         Traceback (most recent call last)",
            "\u001b[0;32m/tmp/ipython-input-2795691339.py\u001b[0m in \u001b[0;36m<cell line: 0>\u001b[0;34m()\u001b[0m\n\u001b[1;32m      5\u001b[0m \u001b[0mindex\u001b[0m \u001b[0;34m=\u001b[0m \u001b[0mcollections\u001b[0m\u001b[0;34m.\u001b[0m\u001b[0mdefaultdict\u001b[0m\u001b[0;34m(\u001b[0m\u001b[0mlist\u001b[0m\u001b[0;34m)\u001b[0m\u001b[0;34m\u001b[0m\u001b[0;34m\u001b[0m\u001b[0m\n\u001b[1;32m      6\u001b[0m \u001b[0;34m\u001b[0m\u001b[0m\n\u001b[0;32m----> 7\u001b[0;31m \u001b[0;32mwith\u001b[0m \u001b[0mopen\u001b[0m\u001b[0;34m(\u001b[0m\u001b[0;34m\"sejong.txt\"\u001b[0m\u001b[0;34m,\u001b[0m \u001b[0mencoding\u001b[0m\u001b[0;34m=\u001b[0m\u001b[0;34m'utf-8'\u001b[0m\u001b[0;34m)\u001b[0m \u001b[0;32mas\u001b[0m \u001b[0mfp\u001b[0m\u001b[0;34m:\u001b[0m\u001b[0;34m\u001b[0m\u001b[0;34m\u001b[0m\u001b[0m\n\u001b[0m\u001b[1;32m      8\u001b[0m     \u001b[0;32mfor\u001b[0m \u001b[0mline_no\u001b[0m\u001b[0;34m,\u001b[0m \u001b[0mline\u001b[0m \u001b[0;32min\u001b[0m \u001b[0menumerate\u001b[0m\u001b[0;34m(\u001b[0m\u001b[0mfp\u001b[0m\u001b[0;34m,\u001b[0m \u001b[0;36m1\u001b[0m\u001b[0;34m)\u001b[0m\u001b[0;34m:\u001b[0m\u001b[0;34m\u001b[0m\u001b[0;34m\u001b[0m\u001b[0m\n\u001b[1;32m      9\u001b[0m         \u001b[0;32mfor\u001b[0m \u001b[0mmatch\u001b[0m \u001b[0;32min\u001b[0m \u001b[0mWORD_RE\u001b[0m\u001b[0;34m.\u001b[0m\u001b[0mfinditer\u001b[0m\u001b[0;34m(\u001b[0m\u001b[0mline\u001b[0m\u001b[0;34m)\u001b[0m\u001b[0;34m:\u001b[0m\u001b[0;34m\u001b[0m\u001b[0;34m\u001b[0m\u001b[0m\n",
            "\u001b[0;31mFileNotFoundError\u001b[0m: [Errno 2] No such file or directory: 'sejong.txt'"
          ]
        }
      ]
    },
    {
      "cell_type": "code",
      "source": [
        "class StrKeyDict0(dict):\n",
        "    def __missing__(self, key):\n",
        "        if isinstance(key, str):\n",
        "            raise KeyError(key)\n",
        "        return self[str(key)]\n",
        "\n",
        "    def get(self, key, default=None):\n",
        "        try:\n",
        "            return self[key]\n",
        "        except KeyError:\n",
        "            return default\n",
        "\n",
        "    def __contains__(self, key):\n",
        "        return key in self.keys() or str(key) in self.keys()"
      ],
      "metadata": {
        "id": "-IXBddtTLA-A"
      },
      "execution_count": 5,
      "outputs": []
    },
    {
      "cell_type": "code",
      "source": [
        "d = StrKeyDict0([('2', 'two'), ('4', 'four')])\n",
        "d['2']"
      ],
      "metadata": {
        "colab": {
          "base_uri": "https://localhost:8080/",
          "height": 35
        },
        "id": "j2cfPIFOLNMj",
        "outputId": "e722d06a-7ed7-486d-bce6-634de9179d6f"
      },
      "execution_count": 6,
      "outputs": [
        {
          "output_type": "execute_result",
          "data": {
            "text/plain": [
              "'two'"
            ],
            "application/vnd.google.colaboratory.intrinsic+json": {
              "type": "string"
            }
          },
          "metadata": {},
          "execution_count": 6
        }
      ]
    },
    {
      "cell_type": "code",
      "source": [
        "class StrKeyDict(collections.UserDict):\n",
        "\n",
        "  def __missing__(self, key):\n",
        "    if isinstance(key, str):\n",
        "      raise KeyError(key)\n",
        "    return self[str(key)]\n",
        "\n",
        "  def __contains__(self, key):\n",
        "    return str(key) in self.data\n",
        "\n",
        "  def __setitem__(self, key, item):\n",
        "    self.data[str(key)] = item"
      ],
      "metadata": {
        "id": "4SkGWb9NLPD_"
      },
      "execution_count": 7,
      "outputs": []
    },
    {
      "cell_type": "code",
      "source": [
        "from types import MappingProxyType\n",
        "d = {1: 'A'}\n",
        "d_proxy = MappingProxyType(d)\n",
        "d_proxy\n"
      ],
      "metadata": {
        "colab": {
          "base_uri": "https://localhost:8080/"
        },
        "id": "0k0gS_JkLfhS",
        "outputId": "4e269c17-2017-40a7-a11d-d9fbb9b9b7ed"
      },
      "execution_count": 11,
      "outputs": [
        {
          "output_type": "execute_result",
          "data": {
            "text/plain": [
              "mappingproxy({1: 'A'})"
            ]
          },
          "metadata": {},
          "execution_count": 11
        }
      ]
    },
    {
      "cell_type": "code",
      "source": [
        "l = [\"spam\", \"spam\", \"eggs\", \"spam\"]\n",
        "set(l)\n"
      ],
      "metadata": {
        "colab": {
          "base_uri": "https://localhost:8080/"
        },
        "id": "EVMl5w5iLub-",
        "outputId": "6706f096-bf42-48a7-db21-b9677de644df"
      },
      "execution_count": 12,
      "outputs": [
        {
          "output_type": "execute_result",
          "data": {
            "text/plain": [
              "{'eggs', 'spam'}"
            ]
          },
          "metadata": {},
          "execution_count": 12
        }
      ]
    },
    {
      "cell_type": "code",
      "source": [
        "list(set(l))"
      ],
      "metadata": {
        "colab": {
          "base_uri": "https://localhost:8080/"
        },
        "id": "TwyzEpjYMaqG",
        "outputId": "7908ccd9-a2fe-4a23-abb5-8a7eb280d71e"
      },
      "execution_count": 13,
      "outputs": [
        {
          "output_type": "execute_result",
          "data": {
            "text/plain": [
              "['spam', 'eggs']"
            ]
          },
          "metadata": {},
          "execution_count": 13
        }
      ]
    },
    {
      "cell_type": "code",
      "source": [
        "l = set([\"spam\", \"spam\", \"eggs\", \"spam\", \"eggs\", \"meats\", \"onions\", \"onions\"])\n",
        "m = set([\"eggs\", \"onions\"])\n",
        "\n",
        "found = len(l&m)\n",
        "found"
      ],
      "metadata": {
        "colab": {
          "base_uri": "https://localhost:8080/"
        },
        "id": "3fwvuhF9McBd",
        "outputId": "1993777d-cdef-45cc-8633-72855b36fd41"
      },
      "execution_count": 15,
      "outputs": [
        {
          "output_type": "execute_result",
          "data": {
            "text/plain": [
              "2"
            ]
          },
          "metadata": {},
          "execution_count": 15
        }
      ]
    },
    {
      "cell_type": "code",
      "source": [
        "found = 0\n",
        "for n in m:\n",
        "  if n in l:\n",
        "    found += 1\n",
        "found"
      ],
      "metadata": {
        "colab": {
          "base_uri": "https://localhost:8080/"
        },
        "id": "ALlJzKjXNFBn",
        "outputId": "1bfbaf15-dcbc-4f27-ef01-ef9bb5ed19d4"
      },
      "execution_count": 16,
      "outputs": [
        {
          "output_type": "execute_result",
          "data": {
            "text/plain": [
              "2"
            ]
          },
          "metadata": {},
          "execution_count": 16
        }
      ]
    },
    {
      "cell_type": "code",
      "source": [
        "found = len(l.intersection(m))\n",
        "found"
      ],
      "metadata": {
        "colab": {
          "base_uri": "https://localhost:8080/"
        },
        "id": "C_2zV2-wNNVQ",
        "outputId": "e312129c-2299-4b9c-b992-0eb220649df2"
      },
      "execution_count": 17,
      "outputs": [
        {
          "output_type": "execute_result",
          "data": {
            "text/plain": [
              "2"
            ]
          },
          "metadata": {},
          "execution_count": 17
        }
      ]
    },
    {
      "cell_type": "code",
      "source": [
        "s = {1}\n",
        "print(type(s))\n",
        "print(s)\n",
        "\n",
        "s.pop()\n",
        "print(s)"
      ],
      "metadata": {
        "colab": {
          "base_uri": "https://localhost:8080/"
        },
        "id": "AKhR3kpWNQ4V",
        "outputId": "9b093739-4887-46bd-f686-3d82dece0e01"
      },
      "execution_count": 18,
      "outputs": [
        {
          "output_type": "stream",
          "name": "stdout",
          "text": [
            "<class 'set'>\n",
            "{1}\n",
            "set()\n"
          ]
        }
      ]
    },
    {
      "cell_type": "code",
      "source": [
        "from unicodedata import name\n",
        "{chr(i) for i in range(32, 256) if 'SIGN' in name(chr(i), '')}"
      ],
      "metadata": {
        "colab": {
          "base_uri": "https://localhost:8080/"
        },
        "id": "YOHrK00XNiQu",
        "outputId": "69e90e22-d275-4ccf-86aa-3e64a7bac907"
      },
      "execution_count": 19,
      "outputs": [
        {
          "output_type": "execute_result",
          "data": {
            "text/plain": [
              "{'#',\n",
              " '$',\n",
              " '%',\n",
              " '+',\n",
              " '<',\n",
              " '=',\n",
              " '>',\n",
              " '¢',\n",
              " '£',\n",
              " '¤',\n",
              " '¥',\n",
              " '§',\n",
              " '©',\n",
              " '¬',\n",
              " '®',\n",
              " '°',\n",
              " '±',\n",
              " 'µ',\n",
              " '¶',\n",
              " '×',\n",
              " '÷'}"
            ]
          },
          "metadata": {},
          "execution_count": 19
        }
      ]
    },
    {
      "cell_type": "code",
      "source": [
        "DIAL_CODES = [\n",
        "    (82, 'Korea'),\n",
        "    (91, 'India'),\n",
        "    (1, 'United States'),\n",
        "    (92, 'Pakistan'),\n",
        "    (7, 'Russia'),\n",
        "]\n",
        "\n",
        "d1 = dict(DIAL_CODES)\n",
        "print(f'd1: {d1.keys()}')\n",
        "\n",
        "d2 = dict(sorted(DIAL_CODES))\n",
        "print(f'd2: {d2.keys()}')\n",
        "\n",
        "d3 = dict(sorted(DIAL_CODES, key=lambda x:x[1]))\n",
        "print(f'd3: {d3.keys()}')\n",
        "\n",
        "assert d1 == d2 and d2 == d3"
      ],
      "metadata": {
        "colab": {
          "base_uri": "https://localhost:8080/"
        },
        "id": "jwcbcNBtNoyU",
        "outputId": "40c3238b-333c-4692-afd4-ec8004017828"
      },
      "execution_count": 20,
      "outputs": [
        {
          "output_type": "stream",
          "name": "stdout",
          "text": [
            "d1: dict_keys([82, 91, 1, 92, 7])\n",
            "d2: dict_keys([1, 7, 82, 91, 92])\n",
            "d3: dict_keys([91, 82, 92, 7, 1])\n"
          ]
        }
      ]
    },
    {
      "cell_type": "code",
      "source": [],
      "metadata": {
        "id": "-vB5wSKXOKdX"
      },
      "execution_count": null,
      "outputs": []
    }
  ]
}